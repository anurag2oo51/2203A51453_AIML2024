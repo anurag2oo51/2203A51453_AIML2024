{
  "nbformat": 4,
  "nbformat_minor": 0,
  "metadata": {
    "colab": {
      "provenance": []
    },
    "kernelspec": {
      "name": "python3",
      "display_name": "Python 3"
    },
    "language_info": {
      "name": "python"
    }
  },
  "cells": [
    {
      "cell_type": "markdown",
      "source": [
        "Part-2 Implement the game strategy Algorithm\n"
      ],
      "metadata": {
        "id": "vMiFtjL5vWyp"
      }
    },
    {
      "cell_type": "code",
      "execution_count": 1,
      "metadata": {
        "colab": {
          "base_uri": "https://localhost:8080/"
        },
        "id": "in2n9ZNDufrE",
        "outputId": "af9623e1-af44-416a-9ffc-e9b424a2913a"
      },
      "outputs": [
        {
          "output_type": "stream",
          "name": "stdout",
          "text": [
            "Optimum (max) Value: 8\n",
            "Optimum Move: 5\n"
          ]
        }
      ],
      "source": [
        "import math\n",
        "\n",
        "def generate_child_nodes(node):\n",
        "    # Generate child nodes for the given node\n",
        "    if node == 6:\n",
        "        return [5, 4]\n",
        "    elif node == 5:\n",
        "        return [8, 10, 14]\n",
        "    elif node == 4:\n",
        "        return [7, 9, 13]\n",
        "    else:\n",
        "        return []\n",
        "\n",
        "def minimax(node, depth, maximizing_player):\n",
        "    # Base case: Check if the depth limit is reached or the node is a terminal node\n",
        "    if depth == 0 or not generate_child_nodes(node):\n",
        "        return evaluate(node), None  # Return both the score and the move\n",
        "\n",
        "    if maximizing_player:\n",
        "        max_eval = -math.inf\n",
        "        best_move = None\n",
        "        for child in generate_child_nodes(node):\n",
        "            eval_score, _ = minimax(child, depth - 1, False)\n",
        "            if eval_score > max_eval:\n",
        "                max_eval = eval_score\n",
        "                best_move = child\n",
        "        return max_eval, best_move\n",
        "    else:\n",
        "        min_eval = math.inf\n",
        "        best_move = None\n",
        "        for child in generate_child_nodes(node):\n",
        "            eval_score, _ = minimax(child, depth - 1, True)\n",
        "            if eval_score < min_eval:\n",
        "                min_eval = eval_score\n",
        "                best_move = child\n",
        "        return min_eval, best_move,\n",
        "\n",
        "def evaluate(node):\n",
        "    # Placeholder for the evaluation function\n",
        "    # You need to implement your own logic for evaluating a node\n",
        "    # For simplicity, return the node value as the evaluation score\n",
        "    return node\n",
        "\n",
        "# Example usage:\n",
        "initial_state = 6\n",
        "depth_limit = 2  # Set the depth limit for the search\n",
        "\n",
        "best_score, best_move = minimax(initial_state, depth_limit, True)\n",
        "print(\"Optimum (max) Value:\", best_score)\n",
        "print(\"Optimum Move:\", best_move)"
      ]
    },
    {
      "cell_type": "markdown",
      "source": [
        "2. Implement the Alpha-Beta Search Algorithm"
      ],
      "metadata": {
        "id": "8JcPnjcVvOc7"
      }
    },
    {
      "cell_type": "code",
      "source": [
        "def minimax(state, alpha, beta, is_max):\n",
        "    if state == 6:\n",
        "        # Initial state, assuming it's a max node\n",
        "        child_nodes = [5, 4]\n",
        "    elif state == 5:\n",
        "        child_nodes = [8, 10, 14]\n",
        "    elif state == 4:\n",
        "        child_nodes = [7, 9, 13]\n",
        "    else:\n",
        "        # Terminal state or leaf node, return the utility value\n",
        "        return state\n",
        "\n",
        "    if is_max:\n",
        "        value = float('-inf')\n",
        "        for child in child_nodes:\n",
        "            value = max(value, minimax(child, alpha, beta, False))\n",
        "            alpha = max(alpha, value)\n",
        "            if alpha >= beta:\n",
        "                break  # Beta cut-off\n",
        "        return value\n",
        "    else:\n",
        "        value = float('inf')\n",
        "        for child in child_nodes:\n",
        "            value = min(value, minimax(child, alpha, beta, True))\n",
        "            beta = min(beta, value)\n",
        "            if beta <= alpha:\n",
        "                break  # Alpha cut-off\n",
        "        return value\n",
        "\n",
        "# Initialize alpha and beta\n",
        "alpha = float('-inf')\n",
        "beta = float('inf')\n",
        "\n",
        "# Find the optimum move\n",
        "optimum_move = None\n",
        "for move in [5, 4]:\n",
        "    move_value = minimax(move, alpha, beta, False)\n",
        "    if move_value > alpha:\n",
        "        alpha = move_value\n",
        "        optimum_move = move\n",
        "\n",
        "# Print the results\n",
        "print(\"Optimal value for the initial state (6) :\", alpha)\n",
        "print(\"Alpha value:\", alpha)\n",
        "print(\"Beta value:\", beta)\n",
        "print(\"Minimum value:\", move_value)\n",
        "print(\"Optimum move:\", optimum_move)\n"
      ],
      "metadata": {
        "colab": {
          "base_uri": "https://localhost:8080/"
        },
        "id": "mWnrIQohvHyD",
        "outputId": "f8b63ae1-dcdb-4372-ee94-6fe8a028c5c9"
      },
      "execution_count": 6,
      "outputs": [
        {
          "output_type": "stream",
          "name": "stdout",
          "text": [
            "Optimal value for the initial state (6) : 8\n",
            "Alpha value: 8\n",
            "Beta value: inf\n",
            "Minimum value: 7\n",
            "Optimum move: 5\n"
          ]
        }
      ]
    },
    {
      "cell_type": "code",
      "source": [],
      "metadata": {
        "id": "fpOAnOG3wIVe"
      },
      "execution_count": null,
      "outputs": []
    }
  ]
}